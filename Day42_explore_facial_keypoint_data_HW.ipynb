{
  "nbformat": 4,
  "nbformat_minor": 0,
  "metadata": {
    "kernelspec": {
      "display_name": "Python 3",
      "language": "python",
      "name": "python3"
    },
    "language_info": {
      "codemirror_mode": {
        "name": "ipython",
        "version": 3
      },
      "file_extension": ".py",
      "mimetype": "text/x-python",
      "name": "python",
      "nbconvert_exporter": "python",
      "pygments_lexer": "ipython3",
      "version": "3.6.4"
    },
    "colab": {
      "name": "Day42_explore_facial_keypoint_data_HW.ipynb",
      "provenance": [],
      "collapsed_sections": []
    }
  },
  "cells": [
    {
      "cell_type": "markdown",
      "metadata": {
        "id": "4D7MXxT4wJ9w",
        "colab_type": "text"
      },
      "source": [
        "### 作業\n",
        "理解範例後請嘗試將關鍵點畫在圖像上，確保圖像及資料有正確讀取。\n",
        "Hint: 可以用 [matplotlib 的 scatter](https://matplotlib.org/3.1.1/gallery/shapes_and_collections/scatter.html) 或者 [opencv 的 cv2.circle](https://docs.opencv.org/master/dc/da5/tutorial_py_drawing_functions.html)"
      ]
    },
    {
      "cell_type": "markdown",
      "metadata": {
        "id": "cbqB2nZkwJ95",
        "colab_type": "text"
      },
      "source": [
        "### 範例\n",
        "接下來的程式碼會示範如何讀取 kaggle facial keypoint detection 資料集"
      ]
    },
    {
      "cell_type": "code",
      "metadata": {
        "id": "SIMNKntSwJ-F",
        "colab_type": "code",
        "colab": {}
      },
      "source": [
        "import numpy as np\n",
        "import pandas as pd\n",
        "import matplotlib.pyplot as plt\n",
        "%matplotlib inline"
      ],
      "execution_count": 0,
      "outputs": []
    },
    {
      "cell_type": "code",
      "metadata": {
        "id": "tPTTCIgNwJ-a",
        "colab_type": "code",
        "outputId": "c64fa743-42a8-4994-ec34-c918326b5735",
        "colab": {
          "base_uri": "https://localhost:8080/",
          "height": 201
        }
      },
      "source": [
        "# 使用 colab 環境的同學請執行以下程式碼\n",
        " %tensorflow_version 1.x # 確保 colob 中使用的 tensorflow 是 1.x 版本而不是 tensorflow 2\n",
        "import tensorflow as tf\n",
        "print(tf.__version__)\n",
        "\n",
        "import os\n",
        "from google.colab import drive \n",
        "drive.mount('/content/gdrive') # 將 google drive 掛載在 colob，\n",
        "%cd My Drive\n",
        "%cd cupoy_cv_part4"
      ],
      "execution_count": 26,
      "outputs": [
        {
          "output_type": "stream",
          "text": [
            "`%tensorflow_version` only switches the major version: `1.x` or `2.x`.\n",
            "You set: `1.x # 確保 colob 中使用的 tensorflow 是 1.x 版本而不是 tensorflow 2`. This will be interpreted as: `1.x`.\n",
            "\n",
            "\n",
            "TensorFlow is already loaded. Please restart the runtime to change versions.\n",
            "1.15.0\n",
            "Drive already mounted at /content/gdrive; to attempt to forcibly remount, call drive.mount(\"/content/gdrive\", force_remount=True).\n",
            "[Errno 2] No such file or directory: 'content'\n",
            "/content\n",
            "/content/gdrive\n"
          ],
          "name": "stdout"
        }
      ]
    },
    {
      "cell_type": "code",
      "metadata": {
        "id": "yRiY1fElwJ-t",
        "colab_type": "code",
        "colab": {
          "base_uri": "https://localhost:8080/",
          "height": 35
        },
        "outputId": "58825ee5-ce6e-4e3c-f6a7-db5b7b83b10c"
      },
      "source": [
        "%cd cupoy_cv_part4"
      ],
      "execution_count": 30,
      "outputs": [
        {
          "output_type": "stream",
          "text": [
            "/content/gdrive/My Drive/cupoy_cv_part4\n"
          ],
          "name": "stdout"
        }
      ]
    },
    {
      "cell_type": "markdown",
      "metadata": {
        "id": "xyR72OAcwJ_E",
        "colab_type": "text"
      },
      "source": [
        "### 資料前處理\n",
        "資料分為兩部分，一個是關鍵點坐標，總共 15 個關鍵點，所以坐標相關的值有 15 x 2 = 30 維；\n",
        "另外還有 96 x 96 的灰階像素值。\n",
        "\n",
        "讀取資料後，先簡單地過濾有缺失某些關鍵點坐標的資料，然後再把資料 scale 到 [-0.5, 0.5] 的範圍"
      ]
    },
    {
      "cell_type": "code",
      "metadata": {
        "id": "mV1DJfznwJ_K",
        "colab_type": "code",
        "colab": {}
      },
      "source": [
        "# 讀取 csv 文件\n",
        "\n",
        "data = pd.read_csv(\"training.csv\")"
      ],
      "execution_count": 0,
      "outputs": []
    },
    {
      "cell_type": "code",
      "metadata": {
        "id": "yb_WykATwJ_d",
        "colab_type": "code",
        "colab": {}
      },
      "source": [
        "# 前 5 筆資料, .T 的作用是轉置，如果不理解可以和 data.head() 的結果相比較\n",
        "data.head().T"
      ],
      "execution_count": 0,
      "outputs": []
    },
    {
      "cell_type": "code",
      "metadata": {
        "id": "O6JLjc-kwJ_t",
        "colab_type": "code",
        "colab": {}
      },
      "source": [
        "data['Image'][0]"
      ],
      "execution_count": 0,
      "outputs": []
    },
    {
      "cell_type": "code",
      "metadata": {
        "id": "uZ8UFLeE5vbi",
        "colab_type": "code",
        "colab": {}
      },
      "source": [
        "data['Image']"
      ],
      "execution_count": 0,
      "outputs": []
    },
    {
      "cell_type": "markdown",
      "metadata": {
        "id": "NfLVGltnwJ_-",
        "colab_type": "text"
      },
      "source": [
        "用 pandas 讀取 csv 文件後可以發現前 30 個 column 是坐標值，最後一個 column 是圖片像素值的字串 (以空白鍵區隔)，接下來我們就以下的函數來做資料的讀取以及前處理，請盡量仔細理解這個函數"
      ]
    },
    {
      "cell_type": "code",
      "metadata": {
        "id": "Y4ZAimDfwKAG",
        "colab_type": "code",
        "colab": {}
      },
      "source": [
        "# 過濾有缺失值的 row\n",
        "data = data.dropna()\n",
        "\n",
        "# 將圖片像素值讀取為 numpy array 的形態\n",
        "data['Image'] = data['Image'].apply(lambda img: np.fromstring(img, sep=' ')).values \n",
        "\n",
        "# 單獨把圖像 array 抽取出來\n",
        "imgs = np.vstack(data['Image'].values)/255\n",
        "# reshape 為 96 x 96\n",
        "imgs = imgs.reshape(data.shape[0], 96, 96)\n",
        "# 轉換為 float\n",
        "imgs = imgs.astype(np.float32)\n",
        "\n",
        "# 提取坐標的部分\n",
        "points = data[data.columns[:-1]].values\n",
        "\n",
        "# 轉換為 float\n",
        "points = points.astype(np.float32)\n",
        "\n",
        "# normalize 坐標值到 [-0.5, 0.5]\n",
        "points = points/96 - 0.5"
      ],
      "execution_count": 0,
      "outputs": []
    },
    {
      "cell_type": "code",
      "metadata": {
        "id": "Q-Cz_EJnwKAZ",
        "colab_type": "code",
        "colab": {
          "base_uri": "https://localhost:8080/",
          "height": 54
        },
        "outputId": "ee5096fe-f8da-4adb-85c1-7b523fa593a5"
      },
      "source": [
        "print(\"圖像資料:\", imgs.shape, \"\\n關鍵點資料:\", points.shape)"
      ],
      "execution_count": 33,
      "outputs": [
        {
          "output_type": "stream",
          "text": [
            "圖像資料: (2140, 96, 96) \n",
            "關鍵點資料: (2140, 30)\n"
          ],
          "name": "stdout"
        }
      ]
    },
    {
      "cell_type": "code",
      "metadata": {
        "id": "6mTgKgUawKAo",
        "colab_type": "code",
        "colab": {}
      },
      "source": [
        "sample_img = imgs[0]\n",
        "sample_points = points[0]"
      ],
      "execution_count": 0,
      "outputs": []
    },
    {
      "cell_type": "code",
      "metadata": {
        "id": "KcLMeazU9IDh",
        "colab_type": "code",
        "colab": {}
      },
      "source": [
        "sample_img #96x96矩陣"
      ],
      "execution_count": 0,
      "outputs": []
    },
    {
      "cell_type": "code",
      "metadata": {
        "id": "Io74vkxM-VvX",
        "colab_type": "code",
        "colab": {}
      },
      "source": [
        "sample_points# 30個值的一維陣列"
      ],
      "execution_count": 0,
      "outputs": []
    },
    {
      "cell_type": "code",
      "metadata": {
        "id": "FN3YF8rCwKA5",
        "colab_type": "code",
        "colab": {
          "base_uri": "https://localhost:8080/",
          "height": 268
        },
        "outputId": "70977434-33cf-43d8-8fc7-2df0edc8f5f8"
      },
      "source": [
        "face=plt.imshow(sample_img, cmap='gray')"
      ],
      "execution_count": 35,
      "outputs": [
        {
          "output_type": "display_data",
          "data": {
            "image/png": "[encoded data removed]",
            "text/plain": [
              "<Figure size 432x288 with 1 Axes>"
            ]
          },
          "metadata": {
            "tags": []
          }
        }
      ]
    },
    {
      "cell_type": "code",
      "metadata": {
        "id": "mIesSOHCRYEr",
        "colab_type": "code",
        "colab": {
          "base_uri": "https://localhost:8080/",
          "height": 265
        },
        "outputId": "7133c055-f408-4c01-c602-61daa664402e"
      },
      "source": [
        "dot=plt.scatter(sample_points[::2],sample_points[1::2])"
      ],
      "execution_count": 36,
      "outputs": [
        {
          "output_type": "display_data",
          "data": {
            "image/png": "[encoded data removed]",
            "text/plain": [
              "<Figure size 432x288 with 1 Axes>"
            ]
          },
          "metadata": {
            "tags": []
          }
        }
      ]
    },
    {
      "cell_type": "code",
      "metadata": {
        "id": "MzglaWek_a76",
        "colab_type": "code",
        "colab": {}
      },
      "source": [
        "from PIL import Image\n",
        "import cv2\n",
        "\n",
        "img = Image.fromarray(sample_img*255)\n",
        "##img.shape\n",
        "img=img.convert('L')\n",
        "img.save('face.png')\n",
        "img_face=cv2.imread('face.png')\n",
        "\n"
      ],
      "execution_count": 0,
      "outputs": []
    },
    {
      "cell_type": "code",
      "metadata": {
        "id": "w3_RCaknRcYW",
        "colab_type": "code",
        "colab": {}
      },
      "source": [
        "for i,j in zip(sample_points[::2],sample_points[1::2]):\n",
        "  cv2.circle(img_face,(i,j),1,(255,0,0),4)\n"
      ],
      "execution_count": 0,
      "outputs": []
    },
    {
      "cell_type": "code",
      "metadata": {
        "id": "T9YVqTB19IDQ",
        "colab_type": "code",
        "colab": {
          "base_uri": "https://localhost:8080/",
          "height": 356
        },
        "outputId": "f782067f-a95b-45e0-bfdd-fd59c52b989f"
      },
      "source": [
        "c"
      ],
      "execution_count": 42,
      "outputs": [
        {
          "output_type": "error",
          "ename": "DisabledFunctionError",
          "evalue": "ignored",
          "traceback": [
            "\u001b[0;31m---------------------------------------------------------------------------\u001b[0m",
            "\u001b[0;31mDisabledFunctionError\u001b[0m                     Traceback (most recent call last)",
            "\u001b[0;32m<ipython-input-42-b3ed88f2aa98>\u001b[0m in \u001b[0;36m<module>\u001b[0;34m()\u001b[0m\n\u001b[0;32m----> 1\u001b[0;31m \u001b[0mcv2\u001b[0m\u001b[0;34m.\u001b[0m\u001b[0mimshow\u001b[0m\u001b[0;34m(\u001b[0m\u001b[0;34m'grey'\u001b[0m\u001b[0;34m,\u001b[0m\u001b[0mimg_face\u001b[0m\u001b[0;34m)\u001b[0m\u001b[0;34m\u001b[0m\u001b[0;34m\u001b[0m\u001b[0m\n\u001b[0m",
            "\u001b[0;32m/usr/local/lib/python3.6/dist-packages/google/colab/_import_hooks/_cv2.py\u001b[0m in \u001b[0;36mwrapped\u001b[0;34m(*args, **kwargs)\u001b[0m\n\u001b[1;32m     50\u001b[0m   \u001b[0;32mdef\u001b[0m \u001b[0mwrapped\u001b[0m\u001b[0;34m(\u001b[0m\u001b[0;34m*\u001b[0m\u001b[0margs\u001b[0m\u001b[0;34m,\u001b[0m \u001b[0;34m**\u001b[0m\u001b[0mkwargs\u001b[0m\u001b[0;34m)\u001b[0m\u001b[0;34m:\u001b[0m\u001b[0;34m\u001b[0m\u001b[0;34m\u001b[0m\u001b[0m\n\u001b[1;32m     51\u001b[0m     \u001b[0;32mif\u001b[0m \u001b[0;32mnot\u001b[0m \u001b[0mos\u001b[0m\u001b[0;34m.\u001b[0m\u001b[0menviron\u001b[0m\u001b[0;34m.\u001b[0m\u001b[0mget\u001b[0m\u001b[0;34m(\u001b[0m\u001b[0menv_var\u001b[0m\u001b[0;34m,\u001b[0m \u001b[0;32mFalse\u001b[0m\u001b[0;34m)\u001b[0m\u001b[0;34m:\u001b[0m\u001b[0;34m\u001b[0m\u001b[0;34m\u001b[0m\u001b[0m\n\u001b[0;32m---> 52\u001b[0;31m       \u001b[0;32mraise\u001b[0m \u001b[0mDisabledFunctionError\u001b[0m\u001b[0;34m(\u001b[0m\u001b[0mmessage\u001b[0m\u001b[0;34m,\u001b[0m \u001b[0mname\u001b[0m \u001b[0;32mor\u001b[0m \u001b[0mfunc\u001b[0m\u001b[0;34m.\u001b[0m\u001b[0m__name__\u001b[0m\u001b[0;34m)\u001b[0m\u001b[0;34m\u001b[0m\u001b[0;34m\u001b[0m\u001b[0m\n\u001b[0m\u001b[1;32m     53\u001b[0m     \u001b[0;32mreturn\u001b[0m \u001b[0mfunc\u001b[0m\u001b[0;34m(\u001b[0m\u001b[0;34m*\u001b[0m\u001b[0margs\u001b[0m\u001b[0;34m,\u001b[0m \u001b[0;34m**\u001b[0m\u001b[0mkwargs\u001b[0m\u001b[0;34m)\u001b[0m\u001b[0;34m\u001b[0m\u001b[0;34m\u001b[0m\u001b[0m\n\u001b[1;32m     54\u001b[0m \u001b[0;34m\u001b[0m\u001b[0m\n",
            "\u001b[0;31mDisabledFunctionError\u001b[0m: cv2.imshow() is disabled in Colab, because it causes Jupyter sessions\nto crash; see https://github.com/jupyter/notebook/issues/3935.\nAs a substitution, consider using\n  from google.colab.patches import cv2_imshow\n"
          ]
        }
      ]
    },
    {
      "cell_type": "code",
      "metadata": {
        "id": "C1odRPecDxxJ",
        "colab_type": "code",
        "colab": {}
      },
      "source": [
        ""
      ],
      "execution_count": 0,
      "outputs": []
    }
  ]
}